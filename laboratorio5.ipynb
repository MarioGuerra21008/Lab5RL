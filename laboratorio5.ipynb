{
 "cells": [
  {
   "cell_type": "markdown",
   "id": "59e4f90f",
   "metadata": {},
   "source": [
    "<table style=\"width:100%; border-collapse: collapse;\">\n",
    "  <tr>\n",
    "    <td style=\"width:20%; vertical-align:middle;\">\n",
    "      <img src=\"LogoUVG.png\" width=\"400\"/>\n",
    "    </td>\n",
    "    <td style=\"text-align:left; vertical-align:middle;\">\n",
    "      <h2 style=\"margin-bottom: 0;\">Universidad del Valle de Guatemala - UVG</h2>\n",
    "      <h3 style=\"margin-top: 0;\">Facultad de Ingeniería - Computación</h3>\n",
    "      <p style=\"font-size: 16px; margin-bottom: 0; margin-top: -20px\">\n",
    "        <strong>Curso:</strong> CC3104 - Aprendizaje por Refuerzo \n",
    "        <strong>Sección:</strong> 10\n",
    "      </p>\n",
    "      <p style=\"font-size: 16px; margin: 0;\"><strong>Laboratorio 5:</strong> Time Difference Learning</p>\n",
    "      <br>\n",
    "      <p style=\"font-size: 15px; margin: 0;\"><strong>Autores:</strong></p>\n",
    "      <ul style=\"margin-top: 5px; padding-left: 20px; font-size: 15px;\">\n",
    "        <li>Diego Alexander Hernández Silvestre - <strong>21270</strong></li>\n",
    "        <li>Linda Inés Jiménez Vides - <strong>21169</strong></li>\n",
    "        <li>Mario Antonio Guerra Morales - <strong>21008</strong></li>\n",
    "      </ul>\n",
    "    </td>\n",
    "  </tr>\n",
    "</table>"
   ]
  },
  {
   "cell_type": "markdown",
   "id": "67e5ad97",
   "metadata": {},
   "source": [
    "## 📝 Task 1\n",
    "\n",
    "**1. Defina y explique qué “expected sarsa”**\n",
    "**a. ¿Cómo se diferencia de “sarsa”?**\n",
    "**b. ¿Para qué sirven las modificaciones que se hacen sobre “sarsa”?**\n",
    "\n",
    "- Respuesta\n",
    "\n",
    "**2. Defina y explique qué es “n-step TD”**\n",
    "**a. ¿Cómo se diferencia de TD(0)?**\n",
    "**b. ¿Cuál es la utilidad de esta modificación?**\n",
    "**c. ¿Qué usa como objetivo?**\n",
    "\n",
    "- Respuesta\n",
    "\n",
    "**3. ¿Cuál es la diferencia entre SARSA y Q-learning?**\n",
    "\n",
    "- Respuesta"
   ]
  },
  {
   "cell_type": "markdown",
   "id": "bcc3f90e",
   "metadata": {},
   "source": [
    "## 📝 Task 2\n",
    "\n",
    "En este laboratorio, compararán el rendimiento de SARSA y Q-Learning, dos algoritmos de aprendizaje de refuerzo populares, utilizando el entorno CliffWalking-v0 de la biblioteca Gymnasium. Analizará y graficará las recompensas por episodio y responderá preguntas para profundizar su comprensión de las diferencias entre estos algoritmos."
   ]
  },
  {
   "cell_type": "markdown",
   "id": "c9210fc6",
   "metadata": {},
   "source": [
    "**Instalar las bibliotecas necesarias**"
   ]
  },
  {
   "cell_type": "code",
   "execution_count": null,
   "id": "50a0c533",
   "metadata": {},
   "outputs": [],
   "source": []
  },
  {
   "cell_type": "markdown",
   "id": "6310f7a9",
   "metadata": {},
   "source": [
    "**Inicialice el entorno**"
   ]
  },
  {
   "cell_type": "code",
   "execution_count": null,
   "id": "70c48b36",
   "metadata": {},
   "outputs": [],
   "source": []
  },
  {
   "cell_type": "markdown",
   "id": "fe49964f",
   "metadata": {},
   "source": [
    "**Implementar SARSA**"
   ]
  },
  {
   "cell_type": "code",
   "execution_count": null,
   "id": "7cdbe21c",
   "metadata": {},
   "outputs": [],
   "source": []
  },
  {
   "cell_type": "markdown",
   "id": "6a22587c",
   "metadata": {},
   "source": [
    "**Implementar Q-Learning**"
   ]
  },
  {
   "cell_type": "code",
   "execution_count": null,
   "id": "96303746",
   "metadata": {},
   "outputs": [],
   "source": []
  },
  {
   "cell_type": "markdown",
   "id": "f0ec2bf0",
   "metadata": {},
   "source": [
    "**Ejecutar ambos algoritmos**"
   ]
  },
  {
   "cell_type": "code",
   "execution_count": null,
   "id": "67d2a5d7",
   "metadata": {},
   "outputs": [],
   "source": []
  },
  {
   "cell_type": "markdown",
   "id": "ef7f3ba7",
   "metadata": {},
   "source": [
    "**Gráfico de los resultados**"
   ]
  },
  {
   "cell_type": "code",
   "execution_count": null,
   "id": "e0a1b217",
   "metadata": {},
   "outputs": [],
   "source": []
  },
  {
   "cell_type": "markdown",
   "id": "1e97bdce",
   "metadata": {},
   "source": [
    "**Analice los resultados**\n",
    "\n",
    "**a. Observe los resultados graficados y compare el rendimiento de SARSA y Q-Learning a lo largo de los episodios.**\n",
    "\n",
    "- Respuesta\n",
    "\n",
    "**b. Considere cómo cada algoritmo equilibra la exploración y la explotación.**\n",
    "\n",
    "- Respuesta\n",
    "\n",
    "**Responda las siguientes preguntas:**\n",
    "**a. P1: ¿Qué diferencias observa en los patrones de recompensa entre SARSA y Q-Learning?**\n",
    "\n",
    "- Respuesta\n",
    "\n",
    "**b. P2: ¿Por qué Q-Learning tiende a ser más optimista en sus actualizaciones de valor Q en comparación con SARSA?**\n",
    "\n",
    "- Respuesta\n",
    "\n",
    "**c. P3: ¿Cómo afecta la naturaleza \"on-policy\" de SARSA a su proceso de aprendizaje en comparación con la naturaleza \"off-policy\" de Q-Learning?**\n",
    "\n",
    "- Respuesta\n",
    "\n",
    "**d. P4: Según las penalizaciones y recompensas del entorno, ¿qué algoritmo parece aprender el camino más seguro? ¿Por qué?**\n",
    "\n",
    "- Respuesta\n",
    "\n",
    "**e. P5: ¿Cómo podría afectar la disminución de épsilon con el tiempo al rendimiento de cada algoritmo?**\n",
    "\n",
    "- Respuesta\n"
   ]
  },
  {
   "cell_type": "markdown",
   "id": "f1208f39",
   "metadata": {},
   "source": [
    "**Preguntas para responder:**\n",
    "**1. ¿Cuál es el valor estimado de mantener diferentes niveles de existencias para cada producto?**\n",
    "\n",
    "- Respuesta\n",
    "\n",
    "**2. ¿Cómo afecta el valor epsilon en la política blanda al rendimiento?**\n",
    "\n",
    "- Respuesta\n",
    "\n",
    "**3. ¿Cuál es el impacto de utilizar el aprendizaje fuera de la política en comparación con el aprendizaje dentro de la política?**\n",
    "\n",
    "- Respuesta\n"
   ]
  }
 ],
 "metadata": {
  "kernelspec": {
   "display_name": ".venv",
   "language": "python",
   "name": "python3"
  },
  "language_info": {
   "name": "python",
   "version": "3.12.5"
  }
 },
 "nbformat": 4,
 "nbformat_minor": 5
}
